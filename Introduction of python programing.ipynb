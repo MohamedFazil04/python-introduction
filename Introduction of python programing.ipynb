{
 "cells": [
  {
   "cell_type": "code",
   "execution_count": null,
   "id": "57e14237",
   "metadata": {},
   "outputs": [],
   "source": [
    "Rule No-1  variable name shoud notcontain space in between "
   ]
  },
  {
   "cell_type": "code",
   "execution_count": 5,
   "id": "b55cabee",
   "metadata": {},
   "outputs": [],
   "source": [
    "Studentname='fazil'"
   ]
  },
  {
   "cell_type": "code",
   "execution_count": 7,
   "id": "96be7cfc",
   "metadata": {},
   "outputs": [
    {
     "name": "stdout",
     "output_type": "stream",
     "text": [
      "fazil\n"
     ]
    }
   ],
   "source": [
    "print(Studentname)"
   ]
  },
  {
   "cell_type": "code",
   "execution_count": null,
   "id": "7c18e97e",
   "metadata": {},
   "outputs": [],
   "source": [
    "Rule no-2  variable name shoud not have number in front"
   ]
  },
  {
   "cell_type": "code",
   "execution_count": 11,
   "id": "a6a3bdae",
   "metadata": {},
   "outputs": [],
   "source": [
    "Student1 ='fazil'"
   ]
  },
  {
   "cell_type": "code",
   "execution_count": 13,
   "id": "0efd7a10",
   "metadata": {},
   "outputs": [
    {
     "name": "stdout",
     "output_type": "stream",
     "text": [
      "fazil\n"
     ]
    }
   ],
   "source": [
    "print(Student1)"
   ]
  },
  {
   "cell_type": "code",
   "execution_count": null,
   "id": "430fd9b8",
   "metadata": {},
   "outputs": [],
   "source": [
    "Rule no-3  A variable name shoud notcontain any special character"
   ]
  },
  {
   "cell_type": "code",
   "execution_count": null,
   "id": "605e6a8f",
   "metadata": {},
   "outputs": [],
   "source": [
    "name@ = 'Fazil'"
   ]
  },
  {
   "cell_type": "code",
   "execution_count": 14,
   "id": "f58bb63f",
   "metadata": {},
   "outputs": [
    {
     "ename": "SyntaxError",
     "evalue": "invalid syntax (3535163447.py, line 1)",
     "output_type": "error",
     "traceback": [
      "\u001b[1;36m  Input \u001b[1;32mIn [14]\u001b[1;36m\u001b[0m\n\u001b[1;33m    print(name@)\u001b[0m\n\u001b[1;37m               ^\u001b[0m\n\u001b[1;31mSyntaxError\u001b[0m\u001b[1;31m:\u001b[0m invalid syntax\n"
     ]
    }
   ],
   "source": [
    "print(name@)"
   ]
  },
  {
   "cell_type": "code",
   "execution_count": null,
   "id": "4df19693",
   "metadata": {},
   "outputs": [],
   "source": [
    " possible way for declaring the string"
   ]
  },
  {
   "cell_type": "code",
   "execution_count": 20,
   "id": "a61af81a",
   "metadata": {},
   "outputs": [],
   "source": [
    "Student = 'fazil' # single quote"
   ]
  },
  {
   "cell_type": "code",
   "execution_count": 19,
   "id": "19176b29",
   "metadata": {},
   "outputs": [
    {
     "name": "stdout",
     "output_type": "stream",
     "text": [
      "fazil\n"
     ]
    }
   ],
   "source": [
    "print(Student)"
   ]
  },
  {
   "cell_type": "code",
   "execution_count": null,
   "id": "48562b2d",
   "metadata": {},
   "outputs": [],
   "source": [
    "Student = \"fazil\" # Double quote"
   ]
  },
  {
   "cell_type": "code",
   "execution_count": 22,
   "id": "915e084c",
   "metadata": {},
   "outputs": [
    {
     "name": "stdout",
     "output_type": "stream",
     "text": [
      "fazil\n"
     ]
    }
   ],
   "source": [
    "print(Student)"
   ]
  },
  {
   "cell_type": "code",
   "execution_count": null,
   "id": "62d67fdf",
   "metadata": {},
   "outputs": [],
   "source": [
    "Student = \"\"\" fazil \"\"\" # Triple quote"
   ]
  },
  {
   "cell_type": "code",
   "execution_count": 23,
   "id": "cfb178e5",
   "metadata": {},
   "outputs": [
    {
     "name": "stdout",
     "output_type": "stream",
     "text": [
      "fazil\n"
     ]
    }
   ],
   "source": [
    "print(Student)"
   ]
  },
  {
   "cell_type": "code",
   "execution_count": null,
   "id": "6c714fdf",
   "metadata": {},
   "outputs": [],
   "source": []
  },
  {
   "cell_type": "code",
   "execution_count": null,
   "id": "c24055fc",
   "metadata": {},
   "outputs": [],
   "source": []
  },
  {
   "cell_type": "code",
   "execution_count": null,
   "id": "6af371d8",
   "metadata": {},
   "outputs": [],
   "source": []
  },
  {
   "cell_type": "code",
   "execution_count": null,
   "id": "38b12149",
   "metadata": {},
   "outputs": [],
   "source": []
  }
 ],
 "metadata": {
  "kernelspec": {
   "display_name": "Python 3 (ipykernel)",
   "language": "python",
   "name": "python3"
  },
  "language_info": {
   "codemirror_mode": {
    "name": "ipython",
    "version": 3
   },
   "file_extension": ".py",
   "mimetype": "text/x-python",
   "name": "python",
   "nbconvert_exporter": "python",
   "pygments_lexer": "ipython3",
   "version": "3.9.12"
  }
 },
 "nbformat": 4,
 "nbformat_minor": 5
}
